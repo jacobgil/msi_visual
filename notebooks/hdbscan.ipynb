{
 "cells": [
  {
   "cell_type": "code",
   "execution_count": 1,
   "metadata": {},
   "outputs": [],
   "source": [
    "from sklearn.decomposition import NMF\n",
    "import matplotlib\n",
    "from matplotlib import pyplot as plt\n",
    "from matplotlib.lines import Line2D\n",
    "import cv2\n",
    "import numpy as np\n",
    "from typing import List, Dict\n",
    "import math\n",
    "from visualizations import show_factorization_on_image\n",
    "import glob\n",
    "from PIL import Image\n",
    "from matplotlib import pyplot as plt\n",
    "import math\n",
    "import warnings\n",
    "import hdbscan"
   ]
  },
  {
   "cell_type": "code",
   "execution_count": null,
   "metadata": {},
   "outputs": [],
   "source": [
    "paths = glob.glob(\"D:\\maldi\\slides\\slide2_notol_5_bin\\*.npy\")\n",
    "for path in paths[:1]:\n",
    "    region = path.split(\"\\\\\")[-1].split(\".\")[0]\n",
    "    img = np.load(path)[:, :,  :]\n",
    "    img = img / (1e-6 + np.sum(img, axis=-1)[:, :, None])    \n",
    "    vector = img.reshape(-1, img.shape[-1])\n",
    "    clusterer = hdbscan.HDBSCAN(min_cluster_size=10000, gen_min_span_tree=True)\n",
    "\n"
   ]
  }
 ],
 "metadata": {
  "kernelspec": {
   "display_name": "dl",
   "language": "python",
   "name": "python3"
  },
  "language_info": {
   "codemirror_mode": {
    "name": "ipython",
    "version": 3
   },
   "file_extension": ".py",
   "mimetype": "text/x-python",
   "name": "python",
   "nbconvert_exporter": "python",
   "pygments_lexer": "ipython3",
   "version": "3.11.7"
  }
 },
 "nbformat": 4,
 "nbformat_minor": 2
}
