{
 "cells": [
  {
   "cell_type": "code",
   "execution_count": null,
   "metadata": {},
   "outputs": [],
   "source": [
    "import numpy as np\n",
    "\n",
    "a = np.load(r\"E:\\MSImaging-data\\_msi_visual\\Extractions\\NRL4485-s2-new\\5_bins\\2.npy\")\n",
    "d = np.load(r\"E:\\MSImaging-data\\_msi_visual\\Extractions\\NRL4485-s2\\5_bins\\2.npy\")\n",
    "\n",
    "print(a.max(), d.max())\n",
    "print(a[30:40, 30:40].mean(), d[30:40, 30:40].mean())\n",
    "print(a[:, :, :10].max(), d[:, :, :10].max())\n",
    "print(np.percentile(a, 60), np.percentile(d, 60))"
   ]
  },
  {
   "cell_type": "code",
   "execution_count": null,
   "metadata": {},
   "outputs": [],
   "source": [
    "from PIL import Image\n",
    "\n",
    "index = 1200\n",
    "\n",
    "viza = a[:, :, index] / (1e-7 + a[:, :, index].max())\n",
    "vizd = d[:, :, index] / (1e-7 + d[:, :, index].max())\n",
    "\n",
    "display(Image.fromarray(np.uint8(255 * viza)))\n",
    "display(Image.fromarray(np.uint8(255 * vizd)))"
   ]
  },
  {
   "cell_type": "code",
   "execution_count": null,
   "metadata": {},
   "outputs": [],
   "source": [
    "import glob, cv2\n",
    "from pathlib import Path\n",
    "from PIL import Image\n",
    "import numpy as np\n",
    "\n",
    "paths = glob.glob(r\"E:\\MSImaging-data\\_msi_visual\\Visualizations\\visualizations_NRL4485-s2\\test\\*.png\")\n",
    "\n",
    "for path in paths:\n",
    "    print(Path(path).stem)\n",
    "    \n",
    "    #original\n",
    "    img_org = np.array(Image.open(path))\n",
    "    print(\"original\")    \n",
    "    display(Image.fromarray(img_org))\n",
    "    \n",
    "    #rgb channels ordered and equalized\n",
    "    orders = [[0, 1, 2], [1, 2, 0], [2, 0, 1], [1, 0, 2], [2, 1, 0],[0, 2, 1]]\n",
    "    img = np.array(Image.open(path))\n",
    "    eq = cv2.merge([cv2.equalizeHist(img[:, :, i]) for i in range(3)])\n",
    "    #eq = cv2.resize(eq, (eq.shape[1]//2, eq.shape[0]//2))\n",
    "    images = [eq[:, :, order] for order in orders]\n",
    "    img = np.hstack(images)\n",
    "    print(\"RGB channels ordered and equalized\") \n",
    "    display(Image.fromarray(img))\n"
   ]
  },
  {
   "cell_type": "code",
   "execution_count": 23,
   "metadata": {},
   "outputs": [],
   "source": [
    "import pandas as pd\n",
    "csv = pd.read_csv(r\"C:\\Users\\PahnkeLab\\Desktop\\Maldi_MSI\\msi_visual\\benchmark_after_fix\\benchmark_new.csv\")"
   ]
  },
  {
   "cell_type": "code",
   "execution_count": null,
   "metadata": {},
   "outputs": [],
   "source": [
    "dict(csv)['path']"
   ]
  },
  {
   "cell_type": "code",
   "execution_count": null,
   "metadata": {},
   "outputs": [],
   "source": []
  }
 ],
 "metadata": {
  "kernelspec": {
   "display_name": "maldi",
   "language": "python",
   "name": "python3"
  },
  "language_info": {
   "codemirror_mode": {
    "name": "ipython",
    "version": 3
   },
   "file_extension": ".py",
   "mimetype": "text/x-python",
   "name": "python",
   "nbconvert_exporter": "python",
   "pygments_lexer": "ipython3",
   "version": "3.11.0"
  }
 },
 "nbformat": 4,
 "nbformat_minor": 2
}
